{
 "cells": [
  {
   "cell_type": "code",
   "execution_count": 1,
   "id": "4bb4a436-1e7d-4aca-ab20-e0487715b32c",
   "metadata": {},
   "outputs": [],
   "source": [
    "from sklearn import datasets"
   ]
  },
  {
   "cell_type": "code",
   "execution_count": 2,
   "id": "d2dfdc80-21e4-4643-84fd-4d6b32afb86a",
   "metadata": {},
   "outputs": [
    {
     "data": {
      "text/plain": [
       "\u001b[0;31mType:\u001b[0m        module\n",
       "\u001b[0;31mString form:\u001b[0m <module 'sklearn.datasets' from '/Users/yemeng/opt/anaconda3/lib/python3.9/site-packages/sklearn/datasets/__init__.py'>\n",
       "\u001b[0;31mFile:\u001b[0m        ~/opt/anaconda3/lib/python3.9/site-packages/sklearn/datasets/__init__.py\n",
       "\u001b[0;31mDocstring:\u001b[0m  \n",
       "The :mod:`sklearn.datasets` module includes utilities to load datasets,\n",
       "including methods to load and fetch popular reference datasets. It also\n",
       "features some artificial data generators.\n"
      ]
     },
     "metadata": {},
     "output_type": "display_data"
    }
   ],
   "source": [
    "datasets?"
   ]
  },
  {
   "cell_type": "code",
   "execution_count": null,
   "id": "b5677966-982d-4791-a462-81f701a39cd9",
   "metadata": {},
   "outputs": [],
   "source": [
    "datasets"
   ]
  }
 ],
 "metadata": {
  "kernelspec": {
   "display_name": "Python 3 (ipykernel)",
   "language": "python",
   "name": "python3"
  },
  "language_info": {
   "codemirror_mode": {
    "name": "ipython",
    "version": 3
   },
   "file_extension": ".py",
   "mimetype": "text/x-python",
   "name": "python",
   "nbconvert_exporter": "python",
   "pygments_lexer": "ipython3",
   "version": "3.9.7"
  }
 },
 "nbformat": 4,
 "nbformat_minor": 5
}
