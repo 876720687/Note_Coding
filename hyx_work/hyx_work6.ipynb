{
 "cells": [
  {
   "cell_type": "markdown",
   "metadata": {},
   "source": [
    "## 题 6-1"
   ]
  },
  {
   "cell_type": "code",
   "execution_count": null,
   "metadata": {},
   "outputs": [],
   "source": [
    "'''\n",
    "\n",
    "读取“stocks.csv”中的数据，然后对其中的所有年月（2017年1月至2019年12月）\n",
    "获取绘制月K线所需的股票价格数据（月初开盘价、月末收盘价、月中最低价和最高价，\n",
    "对应数据中的列下标分别为1、4、3、2），最后利用pyecharts绘制出股票价格的月K线图。\n",
    "\n",
    "'''\n",
    "\n",
    "import pandas as pd\n",
    "\n",
    "df = pd.read_csv(r'C:\\Users\\admin\\Desktop\\hyx数据可视化作业\\stocks.csv',header=None)\n",
    "\n",
    "names = ['日期','月初开盘价','最高价','月中最低价','月末收盘价','5','6']\n",
    "\n",
    "df.columns = names"
   ]
  },
  {
   "cell_type": "markdown",
   "metadata": {},
   "source": [
    "## 少量数据的时候可以通过这样的方式来进行展示"
   ]
  },
  {
   "cell_type": "code",
   "execution_count": 5,
   "metadata": {
    "ExecuteTime": {
     "end_time": "2021-06-26T08:56:14.012953Z",
     "start_time": "2021-06-26T08:56:13.989017Z"
    }
   },
   "outputs": [
    {
     "data": {
      "text/html": [
       "\n",
       "<script>\n",
       "    require.config({\n",
       "        paths: {\n",
       "            'echarts':'https://assets.pyecharts.org/assets/echarts.min'\n",
       "        }\n",
       "    });\n",
       "</script>\n",
       "\n",
       "        <div id=\"fdd946fe85b84194a366a6b8a45359b7\" style=\"width:1200px; height:600px;\"></div>\n",
       "\n",
       "<script>\n",
       "        require(['echarts'], function(echarts) {\n",
       "                var chart_fdd946fe85b84194a366a6b8a45359b7 = echarts.init(\n",
       "                    document.getElementById('fdd946fe85b84194a366a6b8a45359b7'), 'white', {renderer: 'canvas'});\n",
       "                var option_fdd946fe85b84194a366a6b8a45359b7 = {\n",
       "    \"animation\": true,\n",
       "    \"animationThreshold\": 2000,\n",
       "    \"animationDuration\": 1000,\n",
       "    \"animationEasing\": \"cubicOut\",\n",
       "    \"animationDelay\": 0,\n",
       "    \"animationDurationUpdate\": 300,\n",
       "    \"animationEasingUpdate\": \"cubicOut\",\n",
       "    \"animationDelayUpdate\": 0,\n",
       "    \"color\": [\n",
       "        \"#c23531\",\n",
       "        \"#2f4554\",\n",
       "        \"#61a0a8\",\n",
       "        \"#d48265\",\n",
       "        \"#749f83\",\n",
       "        \"#ca8622\",\n",
       "        \"#bda29a\",\n",
       "        \"#6e7074\",\n",
       "        \"#546570\",\n",
       "        \"#c4ccd3\",\n",
       "        \"#f05b72\",\n",
       "        \"#ef5b9c\",\n",
       "        \"#f47920\",\n",
       "        \"#905a3d\",\n",
       "        \"#fab27b\",\n",
       "        \"#2a5caa\",\n",
       "        \"#444693\",\n",
       "        \"#726930\",\n",
       "        \"#b2d235\",\n",
       "        \"#6d8346\",\n",
       "        \"#ac6767\",\n",
       "        \"#1d953f\",\n",
       "        \"#6950a1\",\n",
       "        \"#918597\"\n",
       "    ],\n",
       "    \"series\": [\n",
       "        {\n",
       "            \"type\": \"candlestick\",\n",
       "            \"data\": [\n",
       "                [\n",
       "                    20,\n",
       "                    30,\n",
       "                    10,\n",
       "                    35\n",
       "                ],\n",
       "                [\n",
       "                    40,\n",
       "                    35,\n",
       "                    30,\n",
       "                    55\n",
       "                ],\n",
       "                [\n",
       "                    33,\n",
       "                    38,\n",
       "                    33,\n",
       "                    40\n",
       "                ],\n",
       "                [\n",
       "                    40,\n",
       "                    40,\n",
       "                    32,\n",
       "                    42\n",
       "                ]\n",
       "            ],\n",
       "            \"rippleEffect\": {\n",
       "                \"show\": true,\n",
       "                \"brushType\": \"stroke\",\n",
       "                \"scale\": 2.5,\n",
       "                \"period\": 4\n",
       "            }\n",
       "        }\n",
       "    ],\n",
       "    \"legend\": [\n",
       "        {\n",
       "            \"data\": [\n",
       "                \"\"\n",
       "            ],\n",
       "            \"selected\": {\n",
       "                \"\": true\n",
       "            },\n",
       "            \"show\": true,\n",
       "            \"padding\": 5,\n",
       "            \"itemGap\": 10,\n",
       "            \"itemWidth\": 25,\n",
       "            \"itemHeight\": 14\n",
       "        }\n",
       "    ],\n",
       "    \"tooltip\": {\n",
       "        \"show\": true,\n",
       "        \"trigger\": \"item\",\n",
       "        \"triggerOn\": \"mousemove|click\",\n",
       "        \"axisPointer\": {\n",
       "            \"type\": \"line\"\n",
       "        },\n",
       "        \"showContent\": true,\n",
       "        \"alwaysShowContent\": false,\n",
       "        \"showDelay\": 0,\n",
       "        \"hideDelay\": 100,\n",
       "        \"textStyle\": {\n",
       "            \"fontSize\": 14\n",
       "        },\n",
       "        \"borderWidth\": 0,\n",
       "        \"padding\": 5\n",
       "    },\n",
       "    \"xAxis\": [\n",
       "        {\n",
       "            \"show\": true,\n",
       "            \"scale\": true,\n",
       "            \"nameLocation\": \"end\",\n",
       "            \"nameGap\": 15,\n",
       "            \"gridIndex\": 0,\n",
       "            \"inverse\": false,\n",
       "            \"offset\": 0,\n",
       "            \"splitNumber\": 5,\n",
       "            \"minInterval\": 0,\n",
       "            \"splitLine\": {\n",
       "                \"show\": false,\n",
       "                \"lineStyle\": {\n",
       "                    \"show\": true,\n",
       "                    \"width\": 1,\n",
       "                    \"opacity\": 1,\n",
       "                    \"curveness\": 0,\n",
       "                    \"type\": \"solid\"\n",
       "                }\n",
       "            },\n",
       "            \"data\": [\n",
       "                \"2017-10-24\",\n",
       "                \"2017-10-25\",\n",
       "                \"2017-10-26\",\n",
       "                \"2017-10-27\"\n",
       "            ]\n",
       "        }\n",
       "    ],\n",
       "    \"yAxis\": [\n",
       "        {\n",
       "            \"show\": true,\n",
       "            \"scale\": false,\n",
       "            \"nameLocation\": \"end\",\n",
       "            \"nameGap\": 15,\n",
       "            \"gridIndex\": 0,\n",
       "            \"inverse\": false,\n",
       "            \"offset\": 0,\n",
       "            \"splitNumber\": 5,\n",
       "            \"minInterval\": 0,\n",
       "            \"splitLine\": {\n",
       "                \"show\": true,\n",
       "                \"lineStyle\": {\n",
       "                    \"show\": true,\n",
       "                    \"width\": 1,\n",
       "                    \"opacity\": 1,\n",
       "                    \"curveness\": 0,\n",
       "                    \"type\": \"solid\"\n",
       "                }\n",
       "            }\n",
       "        }\n",
       "    ],\n",
       "    \"title\": [\n",
       "        {\n",
       "            \"padding\": 5,\n",
       "            \"itemGap\": 10\n",
       "        }\n",
       "    ]\n",
       "};\n",
       "                chart_fdd946fe85b84194a366a6b8a45359b7.setOption(option_fdd946fe85b84194a366a6b8a45359b7);\n",
       "        });\n",
       "    </script>\n"
      ],
      "text/plain": [
       "<pyecharts.render.display.HTML at 0x2ba14966730>"
      ]
     },
     "execution_count": 5,
     "metadata": {},
     "output_type": "execute_result"
    }
   ],
   "source": [
    "import pyecharts.options as opts\n",
    "from pyecharts.charts import Candlestick\n",
    " \n",
    "x_data = [\"2017-10-24\", \"2017-10-25\", \"2017-10-26\", \"2017-10-27\"]\n",
    "y_data = [[20, 30, 10, 35], [40, 35, 30, 55], [33, 38, 33, 40], [40, 40, 32, 42]]\n",
    " \n",
    "(\n",
    " Candlestick(init_opts=opts.InitOpts(width=\"1200px\", height=\"600px\"))\n",
    " .add_xaxis(xaxis_data=x_data)\n",
    " .add_yaxis(series_name=\"\", y_axis=y_data)\n",
    " .set_series_opts()\n",
    " .set_global_opts(\n",
    "  yaxis_opts=opts.AxisOpts(\n",
    "   splitline_opts=opts.SplitLineOpts(\n",
    "    is_show=True, linestyle_opts=opts.LineStyleOpts(width=1)\n",
    "   )\n",
    "  )\n",
    " )\n",
    " .render_notebook()\n",
    ")"
   ]
  },
  {
   "cell_type": "markdown",
   "metadata": {},
   "source": [
    "## 当存在大量数据的时候"
   ]
  },
  {
   "cell_type": "code",
   "execution_count": 11,
   "metadata": {
    "ExecuteTime": {
     "end_time": "2021-06-26T09:05:39.166614Z",
     "start_time": "2021-06-26T09:05:39.113759Z"
    }
   },
   "outputs": [],
   "source": [
    "from pyecharts import options as opts\n",
    "from pyecharts.charts import Kline\n",
    "import pandas as pd\n",
    "\n",
    "df = pd.read_csv(r'C:\\Users\\admin\\Desktop\\hyx数据可视化作业\\stocks.csv',header=None)\n",
    "\n",
    "names = ['日期','月初开盘价','最高价','月中最低价','月末收盘价','5','6']\n",
    "\n",
    "df.columns = names\n",
    "\n",
    "x_data = list(df['日期'])\n",
    "\n",
    "y_data = [list(z) for z in zip(df['月初开盘价'],df['最高价'],df['月中最低价'],df['月末收盘价'])]\n",
    " \n",
    "data = y_data\n",
    " \n",
    "c = (\n",
    " Kline()\n",
    " .add_xaxis(xaxis_data=x_data)\n",
    " .add_yaxis(\"\", data)\n",
    " .set_global_opts(\n",
    "  xaxis_opts=opts.AxisOpts(is_scale=True),\n",
    "  yaxis_opts=opts.AxisOpts(\n",
    "   is_scale=True,\n",
    "   splitarea_opts=opts.SplitAreaOpts(\n",
    "    is_show=True, areastyle_opts=opts.AreaStyleOpts(opacity=1)\n",
    "   ),\n",
    "  ),\n",
    "  datazoom_opts=[opts.DataZoomOpts(pos_bottom=\"-2%\")],\n",
    "  title_opts=opts.TitleOpts(title=\"Data_Show\"),\n",
    " )\n",
    "   .render(\"K线图.html\")\n",
    "#  .render_notebook()\n",
    ")"
   ]
  },
  {
   "cell_type": "code",
   "execution_count": null,
   "metadata": {},
   "outputs": [],
   "source": []
  },
  {
   "cell_type": "code",
   "execution_count": null,
   "metadata": {},
   "outputs": [],
   "source": []
  },
  {
   "cell_type": "code",
   "execution_count": null,
   "metadata": {},
   "outputs": [],
   "source": [
    "\n",
    "'''\n",
    "\n",
    " 利用随机函数，随机产生2020年每天的微信步数（步数范围在3000-30000），\n",
    " 然后利用pyecharts绘制出2020年微信步数的日历图。日历图中的相关要素用中文显示。\n",
    "\n",
    "\n",
    "'''"
   ]
  },
  {
   "cell_type": "markdown",
   "metadata": {
    "ExecuteTime": {
     "end_time": "2021-06-26T09:08:40.716206Z",
     "start_time": "2021-06-26T09:08:40.706260Z"
    }
   },
   "source": [
    "# 导入时间处理常用的包\n",
    "import datetime\n",
    "# 导入pyecharts绘制日历图的包\n",
    "from pyecharts import options as opts\n",
    "from pyecharts.charts import Calendar"
   ]
  },
  {
   "cell_type": "markdown",
   "metadata": {
    "ExecuteTime": {
     "end_time": "2021-06-26T09:10:46.058626Z",
     "start_time": "2021-06-26T09:10:45.914015Z"
    }
   },
   "source": [
    "values = df.iloc[::-1, :].to_numpy()\n",
    "begin = pd.datetime(2020, 1, 1)\n",
    "count, data = 1, []\n",
    "for row in values:\n",
    "    for val in row:\n",
    "        data.append([str(begin + datetime.timedelta(count)), val])\n",
    "        count += 1\n",
    "\n",
    "c = (\n",
    "    Calendar()\n",
    "    .add(\"\", data, calendar_opts=opts.CalendarOpts(range_=\"2020\"))\n",
    "    .set_global_opts(\n",
    "        title_opts=opts.TitleOpts(title=\"2020年数据展示\"),\n",
    "        visualmap_opts=opts.VisualMapOpts(\n",
    "            max_=200,\n",
    "            min_=0,\n",
    "            orient=\"horizontal\",\n",
    "            is_piecewise=True,\n",
    "            pos_top=\"230px\",\n",
    "            pos_left=\"100px\",\n",
    "        ),\n",
    "    )\n",
    ")\n",
    "\n",
    "c.render_notebook()"
   ]
  },
  {
   "cell_type": "markdown",
   "metadata": {},
   "source": [
    "## Ti 6-2"
   ]
  },
  {
   "cell_type": "code",
   "execution_count": 20,
   "metadata": {
    "ExecuteTime": {
     "end_time": "2021-06-26T09:12:06.661035Z",
     "start_time": "2021-06-26T09:12:06.643083Z"
    }
   },
   "outputs": [],
   "source": [
    "import datetime\n",
    "import random\n",
    "begin = datetime.date(2017, 1, 1)\n",
    "end = datetime.date(2017, 12, 31)\n",
    "data = [\n",
    "    [str(begin + datetime.timedelta(days=i)), random.randint(3000, 30000)]\n",
    "    for i in range((end - begin).days + 1)\n",
    "]\n",
    "\n",
    "from pyecharts import options as opts\n",
    "from pyecharts.charts import Calendar\n",
    "c = (\n",
    "    Calendar()\n",
    "    .add(\n",
    "        \"日期\",#添加在数据显示的前面，用于 tooltip 的显示，legend 的图例\n",
    "        data,#接收数据，格式为 [(日期1, 值1), (日期2, 值2), ...]\n",
    "        calendar_opts=opts.CalendarOpts(\n",
    "            range_=\"2021\",#时间范围，可选\n",
    "            daylabel_opts=opts.CalendarDayLabelOpts(name_map=\"cn\"),#星期名称选择，此处选中文\n",
    "            monthlabel_opts=opts.CalendarMonthLabelOpts(name_map=\"cn\"),#月份名称选择\n",
    "        ),\n",
    "    )\n",
    "    .set_global_opts(\n",
    "        title_opts=opts.TitleOpts(title=\"2020年微信步数\"),\n",
    "        visualmap_opts=opts.VisualMapOpts(\n",
    "            max_=20000,\n",
    "            min_=500,\n",
    "            orient=\"horizontal\",\n",
    "            is_piecewise=True,\n",
    "            pos_top=\"230px\",\n",
    "            pos_left=\"100px\",\n",
    "        ),#展示配置\n",
    "    )\n",
    "#     .render_notebook()\n",
    "    .render(\"calendar_label_setting.html\")#渲染名称\n",
    ")\n"
   ]
  },
  {
   "cell_type": "code",
   "execution_count": null,
   "metadata": {},
   "outputs": [],
   "source": []
  }
 ],
 "metadata": {
  "kernelspec": {
   "display_name": "Python 3",
   "language": "python",
   "name": "python3"
  },
  "language_info": {
   "codemirror_mode": {
    "name": "ipython",
    "version": 3
   },
   "file_extension": ".py",
   "mimetype": "text/x-python",
   "name": "python",
   "nbconvert_exporter": "python",
   "pygments_lexer": "ipython3",
   "version": "3.8.5"
  },
  "toc": {
   "base_numbering": 1,
   "nav_menu": {},
   "number_sections": true,
   "sideBar": true,
   "skip_h1_title": false,
   "title_cell": "Table of Contents",
   "title_sidebar": "Contents",
   "toc_cell": false,
   "toc_position": {},
   "toc_section_display": true,
   "toc_window_display": false
  },
  "varInspector": {
   "cols": {
    "lenName": 16,
    "lenType": 16,
    "lenVar": 40
   },
   "kernels_config": {
    "python": {
     "delete_cmd_postfix": "",
     "delete_cmd_prefix": "del ",
     "library": "var_list.py",
     "varRefreshCmd": "print(var_dic_list())"
    },
    "r": {
     "delete_cmd_postfix": ") ",
     "delete_cmd_prefix": "rm(",
     "library": "var_list.r",
     "varRefreshCmd": "cat(var_dic_list()) "
    }
   },
   "types_to_exclude": [
    "module",
    "function",
    "builtin_function_or_method",
    "instance",
    "_Feature"
   ],
   "window_display": false
  }
 },
 "nbformat": 4,
 "nbformat_minor": 4
}
