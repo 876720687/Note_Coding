{
 "cells": [
  {
   "cell_type": "markdown",
   "metadata": {},
   "source": [
    "# ali机器学习基础"
   ]
  },
  {
   "cell_type": "code",
   "execution_count": null,
   "metadata": {},
   "outputs": [],
   "source": []
  },
  {
   "cell_type": "code",
   "execution_count": null,
   "metadata": {},
   "outputs": [],
   "source": []
  },
  {
   "cell_type": "markdown",
   "metadata": {},
   "source": [
    "## 数据分析的主要库"
   ]
  },
  {
   "cell_type": "markdown",
   "metadata": {},
   "source": [
    "### pandas的主要作用"
   ]
  },
  {
   "cell_type": "code",
   "execution_count": null,
   "metadata": {},
   "outputs": [],
   "source": []
  },
  {
   "cell_type": "code",
   "execution_count": null,
   "metadata": {},
   "outputs": [],
   "source": []
  },
  {
   "cell_type": "code",
   "execution_count": null,
   "metadata": {},
   "outputs": [],
   "source": []
  },
  {
   "cell_type": "code",
   "execution_count": null,
   "metadata": {},
   "outputs": [],
   "source": []
  },
  {
   "cell_type": "code",
   "execution_count": null,
   "metadata": {},
   "outputs": [],
   "source": []
  },
  {
   "cell_type": "markdown",
   "metadata": {},
   "source": [
    "### numpy的主要作用"
   ]
  },
  {
   "cell_type": "code",
   "execution_count": null,
   "metadata": {},
   "outputs": [],
   "source": []
  },
  {
   "cell_type": "markdown",
   "metadata": {},
   "source": [
    "### matplotlib的主要作用"
   ]
  },
  {
   "cell_type": "code",
   "execution_count": null,
   "metadata": {},
   "outputs": [],
   "source": [
    "1、和matlab有关系吗？\n",
    "2、pyecharts哪个更好用？区别？"
   ]
  },
  {
   "cell_type": "code",
   "execution_count": null,
   "metadata": {},
   "outputs": [],
   "source": [
    "plt是帮助用于绘图的，需要对其传入数据\n",
    "plt.plot(x,y)绘制成功，但是没有显示出来\n",
    "plt.show()就是执行的时候展示"
   ]
  },
  {
   "cell_type": "code",
   "execution_count": 3,
   "metadata": {
    "ExecuteTime": {
     "end_time": "2021-06-26T15:03:42.149283Z",
     "start_time": "2021-06-26T15:03:41.944433Z"
    }
   },
   "outputs": [
    {
     "data": {
      "image/png": "[encoded data removed]",
      "text/plain": [
       "<Figure size 432x288 with 1 Axes>"
      ]
     },
     "metadata": {
      "needs_background": "light"
     },
     "output_type": "display_data"
    }
   ],
   "source": [
    "from matplotlib import pyplot as plt\n",
    "\n",
    "x = range(2,26,2)\n",
    "\n",
    "y = [15,13,14.5,17 ,20 ,25 ,26 ,26,27 ,22,18,15]\n",
    "\n",
    "plt.plot(x,y) \n",
    "# x and y must have same first dimension, but have shapes (24,) and (12,)\n",
    "plt.show()"
   ]
  },
  {
   "cell_type": "code",
   "execution_count": null,
   "metadata": {},
   "outputs": [],
   "source": []
  },
  {
   "cell_type": "code",
   "execution_count": 2,
   "metadata": {
    "ExecuteTime": {
     "end_time": "2021-06-26T14:51:46.752899Z",
     "start_time": "2021-06-26T14:51:46.738035Z"
    }
   },
   "outputs": [],
   "source": []
  },
  {
   "cell_type": "code",
   "execution_count": null,
   "metadata": {},
   "outputs": [],
   "source": []
  },
  {
   "cell_type": "code",
   "execution_count": null,
   "metadata": {},
   "outputs": [],
   "source": []
  },
  {
   "cell_type": "markdown",
   "metadata": {},
   "source": [
    "## 逻辑回归分类预测"
   ]
  },
  {
   "cell_type": "code",
   "execution_count": null,
   "metadata": {},
   "outputs": [],
   "source": [
    "r[\n",
    "    https://tianchi.aliyun.com/course/278/3413\n",
    "]"
   ]
  },
  {
   "cell_type": "code",
   "execution_count": null,
   "metadata": {},
   "outputs": [],
   "source": [
    "##  基础函数库\n",
    "import numpy as np \n",
    "\n",
    "## 导入画图库\n",
    "import matplotlib.pyplot as plt\n",
    "import seaborn as sns\n",
    "\n",
    "## 导入逻辑回归模型函数\n",
    "from sklearn.linear_model import LogisticRegression"
   ]
  },
  {
   "cell_type": "code",
   "execution_count": null,
   "metadata": {},
   "outputs": [],
   "source": [
    "\n",
    "##Demo演示LogisticRegression分类\n",
    "\n",
    "## 构造数据集\n",
    "x_fearures = np.array([[-1, -2], [-2, -1], [-3, -2], [1, 3], [2, 1], [3, 2]])\n",
    "\n",
    "y_label = np.array([0, 0, 0, 1, 1, 1])\n",
    "\n",
    "## 调用逻辑回归模型\n",
    "lr_clf = LogisticRegression()\n",
    "\n",
    "## 用逻辑回归模型拟合构造的数据集\n",
    "lr_clf = lr_clf.fit(x_fearures, y_label) #其拟合方程为 y=w0+w1*x1+w2*x2\n",
    "\n",
    "## 查看其对应模型的w\n",
    "print('the weight of Logistic Regression:',lr_clf.coef_)\n",
    "\n",
    "## 查看其对应模型的w0\n",
    "print('the intercept(w0) of Logistic Regression:',lr_clf.intercept_)\n",
    "\n",
    "\n",
    "# 数据可视化部分的内容？\n",
    "\n",
    "\n",
    "# 模型预测\n",
    "\n",
    "x_fearures_new1 = np.array([[0, -1]])\n",
    "x_fearures_new2 = np.array([[1, 2]])\n",
    "\n",
    "## 在训练集和测试集上分别利用训练好的模型进行预测\n",
    "y_label_new1_predict = lr_clf.predict(x_fearures_new1)\n",
    "y_label_new2_predict = lr_clf.predict(x_fearures_new2)\n",
    "\n",
    "print('The New point 1 predict class:\\n',y_label_new1_predict)\n",
    "print('The New point 2 predict class:\\n',y_label_new2_predict)\n",
    "\n",
    "## 由于逻辑回归模型是概率预测模型（前文介绍的 p = p(y=1|x,\\theta)）,所以我们可以利用 predict_proba 函数预测其概率\n",
    "y_label_new1_predict_proba = lr_clf.predict_proba(x_fearures_new1)\n",
    "y_label_new2_predict_proba = lr_clf.predict_proba(x_fearures_new2)\n",
    "\n",
    "print('The New point 1 predict Probability of each class:\\n',y_label_new1_predict_proba)\n",
    "print('The New point 2 predict Probability of each class:\\n',y_label_new2_predict_proba)\n",
    "\n"
   ]
  },
  {
   "cell_type": "code",
   "execution_count": null,
   "metadata": {},
   "outputs": [],
   "source": []
  },
  {
   "cell_type": "markdown",
   "metadata": {},
   "source": [
    "## 实例化对象方式"
   ]
  },
  {
   "cell_type": "code",
   "execution_count": null,
   "metadata": {},
   "outputs": [],
   "source": [
    "# coding: utf-8\n",
    "# 创建一个类，类名称第一个字母大写,可以带括号也可以不带括号\n",
    "# python中同样使用关键字class创建一个类，类名称第一个字母大写,可以带括号也可以不带括号；\n",
    "# python中实例化类不需要使用关键字new（也没有这个关键字），类的实例化类似函数调用方式；\n",
    "\n",
    "\n",
    "class Student(): \n",
    "    student_count = 0 \n",
    "    def __init__(self, name, salary):\n",
    "        self.name = name\n",
    "        self.age = salary\n",
    "        Student.student_count += 1 \n",
    "    def display_count(self):\n",
    "        print('Total student {}'.format(Student.student_count)) \n",
    "    def display_student(self):\n",
    "        print('Name: {}, age: {}'.format(self.name,self.age)) \n",
    "    def get_class(self):\n",
    "        if self.age >= 7 and self.age < 8:\n",
    "            return 1\n",
    "        if self.age >= 8 and self.age < 9:\n",
    "            return 2\n",
    "        if self.age >= 9 and self.age < 10:\n",
    "            return 3\n",
    "        if self.age >= 10 and self.age < 11:\n",
    "            return 4\n",
    "        else:\n",
    "            return  0"
   ]
  },
  {
   "cell_type": "code",
   "execution_count": null,
   "metadata": {},
   "outputs": [],
   "source": [
    "# 创建类的对象（实例化类）\n",
    "# python中实例化类不需要使用关键字new（也没有这个关键字），类的实例化类似函数调用方式。\n",
    "\n",
    "\n",
    "student1 = Student('cuiyongyuan',10)\n",
    "student2 = Student('yuanli', 10)\n",
    " \n",
    "student1.display_student()\n",
    "student2.display_student()\n",
    " \n",
    "student1_class = student1.get_class()\n",
    "student2_class = student2.get_class()\n"
   ]
  },
  {
   "cell_type": "code",
   "execution_count": null,
   "metadata": {},
   "outputs": [],
   "source": []
  },
  {
   "cell_type": "markdown",
   "metadata": {},
   "source": [
    "## lightgbm 原理"
   ]
  },
  {
   "cell_type": "code",
   "execution_count": null,
   "metadata": {},
   "outputs": [],
   "source": [
    "import lightgbm as lgb\n",
    "from sklearn.metrics import mean_squared_error\n",
    "from sklearn import datasets\n",
    "from sklearn.model_selection import train_test_split\n",
    "\n",
    "iris = datasets.load_iris()\n",
    "data = iris.data\n",
    "\n",
    "\n",
    "iri\n",
    "\n",
    "\n"
   ]
  },
  {
   "cell_type": "code",
   "execution_count": null,
   "metadata": {},
   "outputs": [],
   "source": []
  },
  {
   "cell_type": "code",
   "execution_count": null,
   "metadata": {},
   "outputs": [],
   "source": []
  }
 ],
 "metadata": {
  "kernelspec": {
   "display_name": "Python 3",
   "language": "python",
   "name": "python3"
  },
  "language_info": {
   "codemirror_mode": {
    "name": "ipython",
    "version": 3
   },
   "file_extension": ".py",
   "mimetype": "text/x-python",
   "name": "python",
   "nbconvert_exporter": "python",
   "pygments_lexer": "ipython3",
   "version": "3.8.5"
  },
  "toc": {
   "base_numbering": 1,
   "nav_menu": {},
   "number_sections": true,
   "sideBar": true,
   "skip_h1_title": false,
   "title_cell": "Table of Contents",
   "title_sidebar": "Contents",
   "toc_cell": false,
   "toc_position": {
    "height": "calc(100% - 180px)",
    "left": "10px",
    "top": "150px",
    "width": "175.852px"
   },
   "toc_section_display": true,
   "toc_window_display": true
  },
  "varInspector": {
   "cols": {
    "lenName": 16,
    "lenType": 16,
    "lenVar": 40
   },
   "kernels_config": {
    "python": {
     "delete_cmd_postfix": "",
     "delete_cmd_prefix": "del ",
     "library": "var_list.py",
     "varRefreshCmd": "print(var_dic_list())"
    },
    "r": {
     "delete_cmd_postfix": ") ",
     "delete_cmd_prefix": "rm(",
     "library": "var_list.r",
     "varRefreshCmd": "cat(var_dic_list()) "
    }
   },
   "types_to_exclude": [
    "module",
    "function",
    "builtin_function_or_method",
    "instance",
    "_Feature"
   ],
   "window_display": false
  }
 },
 "nbformat": 4,
 "nbformat_minor": 4
}
