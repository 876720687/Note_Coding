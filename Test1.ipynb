{
 "cells": [
  {
   "cell_type": "code",
   "execution_count": 3,
   "metadata": {
    "pycharm": {
     "name": "#%%\n"
    }
   },
   "outputs": [
    {
     "name": "stdout",
     "output_type": "stream",
     "text": [
      "hello\n"
     ]
    }
   ],
   "source": [
    "print('hello')\n",
    "\n"
   ]
  },
  {
   "cell_type": "markdown",
   "metadata": {
    "pycharm": {
     "name": "#%% md\n"
    }
   },
   "source": []
  },
  {
   "cell_type": "code",
   "execution_count": null,
   "outputs": [],
   "source": [
    "#coding:utf-8\n",
    "\n",
    "# dataList: 数据样本\n",
    "\n",
    "import numpy as np\n",
    "import pandas as pd\n",
    "\n",
    "def mean(dataList):\n",
    "    # 样本均值\n",
    "    #********** Begin **********#\n",
    "    return np.mean(dataList)\n",
    "\n",
    "\n",
    "    #********** End **********#\n",
    "\n",
    "def variance(dataList):\n",
    "    # 样本方差\n",
    "    #********** Begin **********#\n",
    "    # return np.var(dataList)\n",
    "    return np.var(dataList,ddof = 1)\n",
    "\n",
    "    #********** End **********#\n",
    "\n",
    "\n",
    "def K_origin_moment(dataList, k):\n",
    "    # k 阶原点矩\n",
    "    #********** Begin **********#\n",
    "    sum=0\n",
    "    for i in range(len(dataList)):\n",
    "        sum += (1/len(dataList))*int(pow(dataList[i],k))\n",
    "    return sum\n",
    "\n",
    "\n",
    "\n",
    "    #********** End **********#\n",
    "\n",
    "\n",
    "def K_central_moment(dataList, k):\n",
    "    # k 阶中心距\n",
    "    #********** Begin **********#\n",
    "    sum=0\n",
    "    ave = np.mean(dataList)\n",
    "    for i in range(len(dataList)):\n",
    "        sum += (1/len(dataList))*int(pow(dataList[i]-ave,k))\n",
    "    return sum\n",
    "    #********** End **********#\n"
   ],
   "metadata": {
    "collapsed": false,
    "pycharm": {
     "name": "#%%\n"
    }
   }
  },
  {
   "cell_type": "markdown",
   "source": [],
   "metadata": {
    "collapsed": false
   }
  }
 ],
 "metadata": {
  "kernelspec": {
   "name": "pycharm-55fac558",
   "language": "python",
   "display_name": "PyCharm (demo1)"
  },
  "language_info": {
   "codemirror_mode": {
    "name": "ipython",
    "version": 3
   },
   "file_extension": ".py",
   "mimetype": "text/x-python",
   "name": "python",
   "nbconvert_exporter": "python",
   "pygments_lexer": "ipython3",
   "version": "3.8.5"
  },
  "toc": {
   "base_numbering": 1,
   "nav_menu": {},
   "number_sections": true,
   "sideBar": true,
   "skip_h1_title": false,
   "title_cell": "Table of Contents",
   "title_sidebar": "Contents",
   "toc_cell": false,
   "toc_position": {},
   "toc_section_display": true,
   "toc_window_display": false
  },
  "varInspector": {
   "cols": {
    "lenName": 16,
    "lenType": 16,
    "lenVar": 40
   },
   "kernels_config": {
    "python": {
     "delete_cmd_postfix": "",
     "delete_cmd_prefix": "del ",
     "library": "var_list.py",
     "varRefreshCmd": "print(var_dic_list())"
    },
    "r": {
     "delete_cmd_postfix": ") ",
     "delete_cmd_prefix": "rm(",
     "library": "var_list.r",
     "varRefreshCmd": "cat(var_dic_list()) "
    }
   },
   "types_to_exclude": [
    "module",
    "function",
    "builtin_function_or_method",
    "instance",
    "_Feature"
   ],
   "window_display": false
  }
 },
 "nbformat": 4,
 "nbformat_minor": 1
}