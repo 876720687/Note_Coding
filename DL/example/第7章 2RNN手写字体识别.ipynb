{
 "cells": [
  {
   "cell_type": "markdown",
   "metadata": {},
   "source": [
    "# 7.2  RNN手写字体识别\n",
    "\n",
    "\n"
   ]
  },
  {
   "cell_type": "code",
   "execution_count": 1,
   "metadata": {
    "ExecuteTime": {
     "end_time": "2019-08-25T02:32:00.431275Z",
     "start_time": "2019-08-25T02:32:00.078163Z"
    }
   },
   "outputs": [],
   "source": [
    "%config InlineBackend.figure_format = 'retina'\n",
    "%matplotlib inline"
   ]
  },
  {
   "cell_type": "code",
   "execution_count": null,
   "metadata": {},
   "outputs": [],
   "source": [
    "## 设置图像风格\n",
    "import seaborn as sns\n",
    "sns.set(font_scale=1.5,style=\"white\") "
   ]
  },
  {
   "cell_type": "code",
   "execution_count": 1,
   "metadata": {
    "ExecuteTime": {
     "end_time": "2019-08-25T02:32:01.777822Z",
     "start_time": "2019-08-25T02:32:00.915714Z"
    }
   },
   "outputs": [],
   "source": [
    "## 导入本章所需要的模块\n",
    "import numpy as np\n",
    "import pandas as pd\n",
    "import matplotlib.pyplot as plt\n",
    "import time\n",
    "import copy"
   ]
  },
  {
   "cell_type": "code",
   "execution_count": 1,
   "metadata": {
    "ExecuteTime": {
     "end_time": "2019-08-25T02:32:01.777822Z",
     "start_time": "2019-08-25T02:32:00.915714Z"
    }
   },
   "outputs": [],
   "source": [
    "import torch\n",
    "from torch import nn\n",
    "import torch.nn.functional as F\n",
    "import torch.optim as optimdd\n",
    "import torchvision\n",
    "import torch.utils.data as Data\n",
    "from torchvision import transforms"
   ]
  },
  {
   "cell_type": "code",
   "execution_count": 23,
   "metadata": {
    "ExecuteTime": {
     "end_time": "2019-08-25T02:32:01.777822Z",
     "start_time": "2019-08-25T02:32:00.915714Z"
    }
   },
   "outputs": [],
   "source": [
    "import hiddenlayer as hl"
   ]
  },
  {
   "cell_type": "markdown",
   "metadata": {},
   "source": [
    "### 数据准备"
   ]
  },
  {
   "cell_type": "code",
   "execution_count": 4,
   "metadata": {
    "ExecuteTime": {
     "end_time": "2019-08-25T02:32:03.083130Z",
     "start_time": "2019-08-25T02:32:02.947373Z"
    }
   },
   "outputs": [
    {
     "name": "stdout",
     "output_type": "stream",
     "text": [
      "Downloading http://yann.lecun.com/exdb/mnist/train-images-idx3-ubyte.gz\n",
      "Downloading http://yann.lecun.com/exdb/mnist/train-images-idx3-ubyte.gz to ./data/MNIST/MNIST/raw/train-images-idx3-ubyte.gz\n"
     ]
    },
    {
     "data": {
      "application/vnd.jupyter.widget-view+json": {
       "model_id": "2ccf01f99cce47b0b508785e492b3600",
       "version_major": 2,
       "version_minor": 0
      },
      "text/plain": [
       "  0%|          | 0/9912422 [00:00<?, ?it/s]"
      ]
     },
     "metadata": {},
     "output_type": "display_data"
    },
    {
     "name": "stdout",
     "output_type": "stream",
     "text": [
      "Extracting ./data/MNIST/MNIST/raw/train-images-idx3-ubyte.gz to ./data/MNIST/MNIST/raw\n",
      "\n",
      "Downloading http://yann.lecun.com/exdb/mnist/train-labels-idx1-ubyte.gz\n",
      "Downloading http://yann.lecun.com/exdb/mnist/train-labels-idx1-ubyte.gz to ./data/MNIST/MNIST/raw/train-labels-idx1-ubyte.gz\n"
     ]
    },
    {
     "data": {
      "application/vnd.jupyter.widget-view+json": {
       "model_id": "59d999b2d5234677881d22ac282b3eb5",
       "version_major": 2,
       "version_minor": 0
      },
      "text/plain": [
       "  0%|          | 0/28881 [00:00<?, ?it/s]"
      ]
     },
     "metadata": {},
     "output_type": "display_data"
    },
    {
     "name": "stdout",
     "output_type": "stream",
     "text": [
      "Extracting ./data/MNIST/MNIST/raw/train-labels-idx1-ubyte.gz to ./data/MNIST/MNIST/raw\n",
      "\n",
      "Downloading http://yann.lecun.com/exdb/mnist/t10k-images-idx3-ubyte.gz\n",
      "Downloading http://yann.lecun.com/exdb/mnist/t10k-images-idx3-ubyte.gz to ./data/MNIST/MNIST/raw/t10k-images-idx3-ubyte.gz\n"
     ]
    },
    {
     "data": {
      "application/vnd.jupyter.widget-view+json": {
       "model_id": "75341ec91fe34858ae3a23d1d6f49479",
       "version_major": 2,
       "version_minor": 0
      },
      "text/plain": [
       "  0%|          | 0/1648877 [00:00<?, ?it/s]"
      ]
     },
     "metadata": {},
     "output_type": "display_data"
    },
    {
     "name": "stdout",
     "output_type": "stream",
     "text": [
      "Extracting ./data/MNIST/MNIST/raw/t10k-images-idx3-ubyte.gz to ./data/MNIST/MNIST/raw\n",
      "\n",
      "Downloading http://yann.lecun.com/exdb/mnist/t10k-labels-idx1-ubyte.gz\n",
      "Downloading http://yann.lecun.com/exdb/mnist/t10k-labels-idx1-ubyte.gz to ./data/MNIST/MNIST/raw/t10k-labels-idx1-ubyte.gz\n"
     ]
    },
    {
     "data": {
      "application/vnd.jupyter.widget-view+json": {
       "model_id": "36b3235550d2459197eb46270cc58110",
       "version_major": 2,
       "version_minor": 0
      },
      "text/plain": [
       "  0%|          | 0/4542 [00:00<?, ?it/s]"
      ]
     },
     "metadata": {},
     "output_type": "display_data"
    },
    {
     "name": "stdout",
     "output_type": "stream",
     "text": [
      "Extracting ./data/MNIST/MNIST/raw/t10k-labels-idx1-ubyte.gz to ./data/MNIST/MNIST/raw\n",
      "\n"
     ]
    }
   ],
   "source": [
    "## 准备训练数据集Minist\n",
    "train_data  = torchvision.datasets.MNIST(\n",
    "    root = \"./data/MNIST\", # 数据的路径\n",
    "    train = True, # 只使用训练数据集\n",
    "    # 将数据转化为torch使用的张量,取汁范围为［0，1］\n",
    "    transform  = transforms.ToTensor(),\n",
    "    download= True # 因为数据已经下载过，所以这里不再下载\n",
    ")"
   ]
  },
  {
   "cell_type": "code",
   "execution_count": 5,
   "metadata": {
    "ExecuteTime": {
     "end_time": "2019-08-25T02:32:03.083130Z",
     "start_time": "2019-08-25T02:32:02.947373Z"
    }
   },
   "outputs": [
    {
     "name": "stdout",
     "output_type": "stream",
     "text": [
      "torch.Size([64, 1, 28, 28])\n",
      "torch.Size([64])\n"
     ]
    }
   ],
   "source": [
    "## 定义一个数据加载器\n",
    "train_loader = Data.DataLoader(\n",
    "    dataset = train_data, ## 使用的数据集\n",
    "    batch_size=64, # 批处理样本大小\n",
    "    shuffle = True, # 每次迭代前打乱数据\n",
    "    num_workers = 2, # 使用两个进程 \n",
    ")\n",
    "\n",
    "##  可视化训练数据集的一个batch的样本来查看图像内容\n",
    "for step, (b_x, b_y) in enumerate(train_loader):  \n",
    "    if step > 0:\n",
    "        break\n",
    "\n",
    "## 输出训练图像的尺寸和标签的尺寸，都是torch格式的数据\n",
    "print(b_x.shape)\n",
    "print(b_y.shape)"
   ]
  },
  {
   "cell_type": "code",
   "execution_count": 6,
   "metadata": {
    "ExecuteTime": {
     "end_time": "2019-08-25T02:32:03.963667Z",
     "start_time": "2019-08-25T02:32:03.899432Z"
    }
   },
   "outputs": [
    {
     "name": "stdout",
     "output_type": "stream",
     "text": [
      "torch.Size([64, 1, 28, 28])\n",
      "torch.Size([64])\n"
     ]
    }
   ],
   "source": [
    "## 准备需要使用的测试数据集\n",
    "test_data  = torchvision.datasets.MNIST(\n",
    "    root = \"./data/MNIST\", # 数据的路径\n",
    "    train = False, # 不使用训练数据集\n",
    "    transform  = transforms.ToTensor(),\n",
    "    download= False # 因为数据已经下载过，所以这里不再下载\n",
    ")\n",
    "## 定义一个数据加载器\n",
    "test_loader = Data.DataLoader(\n",
    "    dataset = test_data, ## 使用的数据集\n",
    "    batch_size=64, # 批处理样本大小\n",
    "    shuffle = True, # 每次迭代前打乱数据\n",
    "    num_workers = 2, # 使用两个进程 \n",
    ")\n",
    "##  可视化训练数据集的一个batch的样本来查看图像内容\n",
    "for step, (b_x, b_y) in enumerate(test_loader):  \n",
    "    if step > 0:\n",
    "        break\n",
    "\n",
    "## 输出训练图像的尺寸和标签的尺寸，都是torch格式的数据\n",
    "print(b_x.shape)\n",
    "print(b_y.shape)"
   ]
  },
  {
   "cell_type": "markdown",
   "metadata": {},
   "source": [
    "### 搭建RNN模型"
   ]
  },
  {
   "cell_type": "code",
   "execution_count": 7,
   "metadata": {
    "ExecuteTime": {
     "end_time": "2019-08-25T02:32:06.385923Z",
     "start_time": "2019-08-25T02:32:06.379899Z"
    }
   },
   "outputs": [],
   "source": [
    "class RNNimc(nn.Module):\n",
    "    def __init__(self, input_dim, hidden_dim, layer_dim, output_dim):\n",
    "        \"\"\"\n",
    "        input_dim:输入数据的维度(图片每行的数据像素点)\n",
    "        hidden_dim: RNN神经元个数\n",
    "        layer_dim: RNN的层数\n",
    "        output_dim:隐藏层输出的维度(分类的数量)\n",
    "        \"\"\"\n",
    "        super(RNNimc, self).__init__()\n",
    "        self.hidden_dim = hidden_dim ## RNN神经元个数\n",
    "        self.layer_dim = layer_dim ## RNN的层数\n",
    "        # RNN\n",
    "        self.rnn = nn.RNN(input_dim, hidden_dim, layer_dim,\n",
    "                          batch_first=True, nonlinearity='relu')\n",
    "        \n",
    "        # 连接全连阶层\n",
    "        self.fc1 = nn.Linear(hidden_dim, output_dim)\n",
    "    def forward(self, x):\n",
    "        # x:[batch, time_step, input_dim]\n",
    "        # 本例中time_step＝图像所有像素数量／input_dim\n",
    "        # out:[batch, time_step, output_size]\n",
    "        # h_n:[layer_dim, batch, hidden_dim]\n",
    "        out, h_n = self.rnn(x, None) # None表示h0会使用全0进行初始化\n",
    "        # 选取最后一个时间点的out输出\n",
    "        out = self.fc1(out[:, -1, :]) \n",
    "        return out\n",
    "    "
   ]
  },
  {
   "cell_type": "code",
   "execution_count": 8,
   "metadata": {
    "ExecuteTime": {
     "end_time": "2019-08-25T02:32:07.433028Z",
     "start_time": "2019-08-25T02:32:07.427342Z"
    }
   },
   "outputs": [
    {
     "name": "stdout",
     "output_type": "stream",
     "text": [
      "RNNimc(\n",
      "  (rnn): RNN(28, 128, batch_first=True)\n",
      "  (fc1): Linear(in_features=128, out_features=10, bias=True)\n",
      ")\n"
     ]
    }
   ],
   "source": [
    "## 模型的调用\n",
    "input_dim=28   # 图片每行的像素数量\n",
    "hidden_dim=128  # RNN神经元个数\n",
    "layer_dim = 1  # RNN的层数\n",
    "output_dim=10  # 隐藏层输出的维度(10类图像)\n",
    "MyRNNimc = RNNimc(input_dim, hidden_dim, layer_dim, output_dim)\n",
    "print(MyRNNimc)"
   ]
  },
  {
   "cell_type": "code",
   "execution_count": 17,
   "metadata": {},
   "outputs": [],
   "source": [
    "from graphviz import Digraph"
   ]
  },
  {
   "cell_type": "code",
   "execution_count": 22,
   "metadata": {},
   "outputs": [
    {
     "data": {
      "text/plain": [
       "\u001B[0;31mInit signature:\u001B[0m\n",
       "\u001B[0mDigraph\u001B[0m\u001B[0;34m(\u001B[0m\u001B[0;34m\u001B[0m\n",
       "\u001B[0;34m\u001B[0m    \u001B[0mname\u001B[0m\u001B[0;34m:\u001B[0m \u001B[0mOptional\u001B[0m\u001B[0;34m[\u001B[0m\u001B[0mstr\u001B[0m\u001B[0;34m]\u001B[0m \u001B[0;34m=\u001B[0m \u001B[0;32mNone\u001B[0m\u001B[0;34m,\u001B[0m\u001B[0;34m\u001B[0m\n",
       "\u001B[0;34m\u001B[0m    \u001B[0mcomment\u001B[0m\u001B[0;34m:\u001B[0m \u001B[0mOptional\u001B[0m\u001B[0;34m[\u001B[0m\u001B[0mstr\u001B[0m\u001B[0;34m]\u001B[0m \u001B[0;34m=\u001B[0m \u001B[0;32mNone\u001B[0m\u001B[0;34m,\u001B[0m\u001B[0;34m\u001B[0m\n",
       "\u001B[0;34m\u001B[0m    \u001B[0mfilename\u001B[0m\u001B[0;34m=\u001B[0m\u001B[0;32mNone\u001B[0m\u001B[0;34m,\u001B[0m\u001B[0;34m\u001B[0m\n",
       "\u001B[0;34m\u001B[0m    \u001B[0mdirectory\u001B[0m\u001B[0;34m=\u001B[0m\u001B[0;32mNone\u001B[0m\u001B[0;34m,\u001B[0m\u001B[0;34m\u001B[0m\n",
       "\u001B[0;34m\u001B[0m    \u001B[0mformat\u001B[0m\u001B[0;34m:\u001B[0m \u001B[0mOptional\u001B[0m\u001B[0;34m[\u001B[0m\u001B[0mstr\u001B[0m\u001B[0;34m]\u001B[0m \u001B[0;34m=\u001B[0m \u001B[0;32mNone\u001B[0m\u001B[0;34m,\u001B[0m\u001B[0;34m\u001B[0m\n",
       "\u001B[0;34m\u001B[0m    \u001B[0mengine\u001B[0m\u001B[0;34m:\u001B[0m \u001B[0mOptional\u001B[0m\u001B[0;34m[\u001B[0m\u001B[0mstr\u001B[0m\u001B[0;34m]\u001B[0m \u001B[0;34m=\u001B[0m \u001B[0;32mNone\u001B[0m\u001B[0;34m,\u001B[0m\u001B[0;34m\u001B[0m\n",
       "\u001B[0;34m\u001B[0m    \u001B[0mencoding\u001B[0m\u001B[0;34m:\u001B[0m \u001B[0mOptional\u001B[0m\u001B[0;34m[\u001B[0m\u001B[0mstr\u001B[0m\u001B[0;34m]\u001B[0m \u001B[0;34m=\u001B[0m \u001B[0;34m'utf-8'\u001B[0m\u001B[0;34m,\u001B[0m\u001B[0;34m\u001B[0m\n",
       "\u001B[0;34m\u001B[0m    \u001B[0mgraph_attr\u001B[0m\u001B[0;34m=\u001B[0m\u001B[0;32mNone\u001B[0m\u001B[0;34m,\u001B[0m\u001B[0;34m\u001B[0m\n",
       "\u001B[0;34m\u001B[0m    \u001B[0mnode_attr\u001B[0m\u001B[0;34m=\u001B[0m\u001B[0;32mNone\u001B[0m\u001B[0;34m,\u001B[0m\u001B[0;34m\u001B[0m\n",
       "\u001B[0;34m\u001B[0m    \u001B[0medge_attr\u001B[0m\u001B[0;34m=\u001B[0m\u001B[0;32mNone\u001B[0m\u001B[0;34m,\u001B[0m\u001B[0;34m\u001B[0m\n",
       "\u001B[0;34m\u001B[0m    \u001B[0mbody\u001B[0m\u001B[0;34m=\u001B[0m\u001B[0;32mNone\u001B[0m\u001B[0;34m,\u001B[0m\u001B[0;34m\u001B[0m\n",
       "\u001B[0;34m\u001B[0m    \u001B[0mstrict\u001B[0m\u001B[0;34m:\u001B[0m \u001B[0mbool\u001B[0m \u001B[0;34m=\u001B[0m \u001B[0;32mFalse\u001B[0m\u001B[0;34m,\u001B[0m\u001B[0;34m\u001B[0m\n",
       "\u001B[0;34m\u001B[0m    \u001B[0;34m*\u001B[0m\u001B[0;34m,\u001B[0m\u001B[0;34m\u001B[0m\n",
       "\u001B[0;34m\u001B[0m    \u001B[0mrenderer\u001B[0m\u001B[0;34m:\u001B[0m \u001B[0mOptional\u001B[0m\u001B[0;34m[\u001B[0m\u001B[0mstr\u001B[0m\u001B[0;34m]\u001B[0m \u001B[0;34m=\u001B[0m \u001B[0;32mNone\u001B[0m\u001B[0;34m,\u001B[0m\u001B[0;34m\u001B[0m\n",
       "\u001B[0;34m\u001B[0m    \u001B[0mformatter\u001B[0m\u001B[0;34m:\u001B[0m \u001B[0mOptional\u001B[0m\u001B[0;34m[\u001B[0m\u001B[0mstr\u001B[0m\u001B[0;34m]\u001B[0m \u001B[0;34m=\u001B[0m \u001B[0;32mNone\u001B[0m\u001B[0;34m,\u001B[0m\u001B[0;34m\u001B[0m\n",
       "\u001B[0;34m\u001B[0m\u001B[0;34m)\u001B[0m \u001B[0;34m->\u001B[0m \u001B[0;32mNone\u001B[0m\u001B[0;34m\u001B[0m\u001B[0;34m\u001B[0m\u001B[0m\n",
       "\u001B[0;31mDocstring:\u001B[0m     \n",
       "Directed graph source code in the DOT language.\n",
       "\n",
       "Args:\n",
       "    name: Graph name used in the source code.\n",
       "    comment: Comment added to the first line of the source.\n",
       "    filename: Filename for saving the source\n",
       "        (defaults to ``name`` + ``'.gv'``).\n",
       "    directory: (Sub)directory for source saving and rendering.\n",
       "    format: Rendering output format (``'pdf'``, ``'png'``, ...).\n",
       "    engine: Layout command used (``'dot'``, ``'neato'``, ...).\n",
       "    renderer: Output renderer used (``'cairo'``, ``'gd'``, ...).\n",
       "    formatter: Output formatter used (``'cairo'``, ``'gd'``, ...).\n",
       "    encoding: Encoding for saving the source.\n",
       "    graph_attr: Mapping of ``(attribute, value)`` pairs for the graph.\n",
       "    node_attr: Mapping of ``(attribute, value)`` pairs set for all nodes.\n",
       "    edge_attr: Mapping of ``(attribute, value)`` pairs set for all edges.\n",
       "    body: Iterable of verbatim lines to add to the graph ``body``.\n",
       "    strict (bool): Rendering should merge multi-edges.\n",
       "\n",
       "Note:\n",
       "    All parameters are `optional` and can be changed under their\n",
       "    corresponding attribute name after instance creation.\n",
       "\u001B[0;31mFile:\u001B[0m           ~/opt/anaconda3/lib/python3.9/site-packages/graphviz/graphs.py\n",
       "\u001B[0;31mType:\u001B[0m           type\n",
       "\u001B[0;31mSubclasses:\u001B[0m     \n"
      ]
     },
     "metadata": {},
     "output_type": "display_data"
    }
   ],
   "source": [
    "Digraph?"
   ]
  },
  {
   "cell_type": "code",
   "execution_count": 25,
   "metadata": {
    "ExecuteTime": {
     "end_time": "2019-08-25T02:32:09.115185Z",
     "start_time": "2019-08-25T02:32:08.644411Z"
    }
   },
   "outputs": [],
   "source": [
    "## 可视化卷积神经网络\n",
    "## 输入:[batch, time_step, input_dim]\n",
    "hl_graph = hl.build_graph(MyRNNimc, torch.zeros([1, 28, 28]))"
   ]
  },
  {
   "cell_type": "code",
   "execution_count": 26,
   "metadata": {
    "ExecuteTime": {
     "end_time": "2019-08-25T02:32:09.115185Z",
     "start_time": "2019-08-25T02:32:08.644411Z"
    }
   },
   "outputs": [],
   "source": [
    "hl_graph.theme = hl.graph.THEMES[\"blue\"].copy()  "
   ]
  },
  {
   "cell_type": "code",
   "execution_count": 33,
   "metadata": {
    "ExecuteTime": {
     "end_time": "2019-07-10T10:12:10.892777Z",
     "start_time": "2019-07-10T10:12:10.607234Z"
    }
   },
   "outputs": [],
   "source": [
    "## 将可视化的网路保存为图片,默认格式为pdf\n",
    "hl_graph.save(\"./MyRNNimc_hl\")"
   ]
  },
  {
   "cell_type": "markdown",
   "metadata": {},
   "source": [
    "### 对模型进行训练"
   ]
  },
  {
   "cell_type": "code",
   "execution_count": 34,
   "metadata": {
    "ExecuteTime": {
     "end_time": "2019-08-25T02:41:04.266452Z",
     "start_time": "2019-08-25T02:32:16.675174Z"
    },
    "scrolled": true
   },
   "outputs": [
    {
     "name": "stdout",
     "output_type": "stream",
     "text": [
      "Epoch 0/29\n",
      "0 Train Loss: 0.0004  Train Acc: 0.6535\n",
      "0 Test Loss: 0.0006  Test Acc: 0.7410\n",
      "Epoch 1/29\n",
      "1 Train Loss: 0.0001  Train Acc: 0.8209\n",
      "1 Test Loss: 0.0016  Test Acc: 0.8709\n",
      "Epoch 2/29\n",
      "2 Train Loss: 0.0002  Train Acc: 0.8772\n",
      "2 Test Loss: 0.0006  Test Acc: 0.8960\n",
      "Epoch 3/29\n",
      "3 Train Loss: 0.0000  Train Acc: 0.9099\n",
      "3 Test Loss: 0.0007  Test Acc: 0.9253\n",
      "Epoch 4/29\n",
      "4 Train Loss: 0.0001  Train Acc: 0.9286\n",
      "4 Test Loss: 0.0009  Test Acc: 0.9162\n",
      "Epoch 5/29\n",
      "5 Train Loss: 0.0001  Train Acc: 0.9383\n",
      "5 Test Loss: 0.0004  Test Acc: 0.9147\n",
      "Epoch 6/29\n",
      "6 Train Loss: 0.0001  Train Acc: 0.9473\n",
      "6 Test Loss: 0.0004  Test Acc: 0.9511\n",
      "Epoch 7/29\n",
      "7 Train Loss: 0.0001  Train Acc: 0.9528\n",
      "7 Test Loss: 0.0003  Test Acc: 0.9385\n",
      "Epoch 8/29\n",
      "8 Train Loss: 0.0000  Train Acc: 0.9573\n",
      "8 Test Loss: 0.0001  Test Acc: 0.9577\n",
      "Epoch 9/29\n",
      "9 Train Loss: 0.0001  Train Acc: 0.9601\n",
      "9 Test Loss: 0.0001  Test Acc: 0.9285\n",
      "Epoch 10/29\n",
      "10 Train Loss: 0.0001  Train Acc: 0.9638\n",
      "10 Test Loss: 0.0000  Test Acc: 0.9655\n",
      "Epoch 11/29\n",
      "11 Train Loss: 0.0001  Train Acc: 0.9666\n",
      "11 Test Loss: 0.0004  Test Acc: 0.9484\n",
      "Epoch 12/29\n",
      "12 Train Loss: 0.0000  Train Acc: 0.9693\n",
      "12 Test Loss: 0.0000  Test Acc: 0.9699\n",
      "Epoch 13/29\n",
      "13 Train Loss: 0.0001  Train Acc: 0.9693\n",
      "13 Test Loss: 0.0002  Test Acc: 0.9693\n",
      "Epoch 14/29\n",
      "14 Train Loss: 0.0000  Train Acc: 0.9716\n",
      "14 Test Loss: 0.0000  Test Acc: 0.9680\n",
      "Epoch 15/29\n",
      "15 Train Loss: 0.0000  Train Acc: 0.9741\n",
      "15 Test Loss: 0.0000  Test Acc: 0.9680\n",
      "Epoch 16/29\n",
      "16 Train Loss: 0.0002  Train Acc: 0.9753\n",
      "16 Test Loss: 0.0003  Test Acc: 0.9469\n",
      "Epoch 17/29\n",
      "17 Train Loss: 0.0000  Train Acc: 0.9766\n",
      "17 Test Loss: 0.0001  Test Acc: 0.9748\n",
      "Epoch 18/29\n",
      "18 Train Loss: 0.0000  Train Acc: 0.9782\n",
      "18 Test Loss: 0.0000  Test Acc: 0.9764\n",
      "Epoch 19/29\n",
      "19 Train Loss: 0.0001  Train Acc: 0.9779\n",
      "19 Test Loss: 0.0003  Test Acc: 0.9697\n",
      "Epoch 20/29\n",
      "20 Train Loss: 0.0000  Train Acc: 0.9792\n",
      "20 Test Loss: 0.0000  Test Acc: 0.9752\n",
      "Epoch 21/29\n",
      "21 Train Loss: 0.0001  Train Acc: 0.9796\n",
      "21 Test Loss: 0.0006  Test Acc: 0.9325\n",
      "Epoch 22/29\n",
      "22 Train Loss: 0.0001  Train Acc: 0.9809\n",
      "22 Test Loss: 0.0002  Test Acc: 0.9754\n",
      "Epoch 23/29\n",
      "23 Train Loss: 0.0000  Train Acc: 0.9812\n",
      "23 Test Loss: 0.0000  Test Acc: 0.9805\n",
      "Epoch 24/29\n",
      "24 Train Loss: 0.0001  Train Acc: 0.9821\n",
      "24 Test Loss: 0.0000  Test Acc: 0.9735\n",
      "Epoch 25/29\n",
      "25 Train Loss: 0.0000  Train Acc: 0.9827\n",
      "25 Test Loss: 0.0000  Test Acc: 0.9597\n",
      "Epoch 26/29\n",
      "26 Train Loss: 0.0000  Train Acc: 0.9834\n",
      "26 Test Loss: 0.0000  Test Acc: 0.9803\n",
      "Epoch 27/29\n",
      "27 Train Loss: 0.0000  Train Acc: 0.9834\n",
      "27 Test Loss: 0.0003  Test Acc: 0.9766\n",
      "Epoch 28/29\n",
      "28 Train Loss: 0.0000  Train Acc: 0.9841\n",
      "28 Test Loss: 0.0001  Test Acc: 0.9799\n",
      "Epoch 29/29\n",
      "29 Train Loss: 0.0000  Train Acc: 0.9850\n",
      "29 Test Loss: 0.0003  Test Acc: 0.9799\n"
     ]
    }
   ],
   "source": [
    "## 对模型进行训练\n",
    "optimizer = torch.optim.RMSprop(MyRNNimc.parameters(), lr=0.0003)  \n",
    "criterion = nn.CrossEntropyLoss()   # 损失函数\n",
    "train_loss_all = []\n",
    "train_acc_all = []\n",
    "test_loss_all = []\n",
    "test_acc_all = []\n",
    "num_epochs = 30\n",
    "for epoch in range(num_epochs):\n",
    "    print('Epoch {}/{}'.format(epoch, num_epochs - 1))\n",
    "    MyRNNimc.train() ## 设置模型为训练模式\n",
    "    corrects = 0\n",
    "    train_num  = 0\n",
    "    for step,(b_x, b_y) in enumerate(train_loader):\n",
    "        # input :[batch, time_step, input_dim]\n",
    "        xdata = b_x.view(-1, 28, 28)\n",
    "        output = MyRNNimc(xdata)     \n",
    "        pre_lab = torch.argmax(output,1)\n",
    "        loss = criterion(output, b_y) \n",
    "        optimizer.zero_grad()        \n",
    "        loss.backward()       \n",
    "        optimizer.step()  \n",
    "        loss += loss.item() * b_x.size(0)\n",
    "        corrects += torch.sum(pre_lab == b_y.data)\n",
    "        train_num += b_x.size(0)\n",
    "    ## 计算经过一个epoch的训练后在训练集上的损失和精度\n",
    "    train_loss_all.append(loss / train_num)\n",
    "    train_acc_all.append(corrects.double().item()/train_num)\n",
    "    print('{} Train Loss: {:.4f}  Train Acc: {:.4f}'.format(\n",
    "        epoch, train_loss_all[-1], train_acc_all[-1]))\n",
    "    ## 设置模型为验证模式\n",
    "    MyRNNimc.eval()\n",
    "    corrects = 0\n",
    "    test_num  = 0\n",
    "    for step,(b_x, b_y) in enumerate(test_loader):\n",
    "        # input :[batch, time_step, input_dim]\n",
    "        xdata = b_x.view(-1, 28, 28)\n",
    "        output = MyRNNimc(xdata)     \n",
    "        pre_lab = torch.argmax(output,1)\n",
    "        loss = criterion(output, b_y) \n",
    "        loss += loss.item() * b_x.size(0)\n",
    "        corrects += torch.sum(pre_lab == b_y.data)\n",
    "        test_num += b_x.size(0)\n",
    "    ## 计算经过一个epoch的训练后在测试集上的损失和精度\n",
    "    test_loss_all.append(loss / test_num)\n",
    "    test_acc_all.append(corrects.double().item()/test_num)\n",
    "    print('{} Test Loss: {:.4f}  Test Acc: {:.4f}'.format(\n",
    "        epoch, test_loss_all[-1], test_acc_all[-1]))\n"
   ]
  },
  {
   "cell_type": "code",
   "execution_count": 49,
   "metadata": {},
   "outputs": [
    {
     "data": {
      "text/plain": [
       "[tensor(0.0004, grad_fn=<DivBackward0>),\n",
       " tensor(8.1374e-05, grad_fn=<DivBackward0>),\n",
       " tensor(0.0002, grad_fn=<DivBackward0>),\n",
       " tensor(2.4539e-05, grad_fn=<DivBackward0>),\n",
       " tensor(0.0001, grad_fn=<DivBackward0>),\n",
       " tensor(6.0534e-05, grad_fn=<DivBackward0>),\n",
       " tensor(5.0044e-05, grad_fn=<DivBackward0>),\n",
       " tensor(5.3609e-05, grad_fn=<DivBackward0>),\n",
       " tensor(4.8787e-05, grad_fn=<DivBackward0>),\n",
       " tensor(7.8450e-05, grad_fn=<DivBackward0>),\n",
       " tensor(5.3576e-05, grad_fn=<DivBackward0>),\n",
       " tensor(6.0793e-05, grad_fn=<DivBackward0>),\n",
       " tensor(1.7521e-05, grad_fn=<DivBackward0>),\n",
       " tensor(5.6502e-05, grad_fn=<DivBackward0>),\n",
       " tensor(3.1462e-06, grad_fn=<DivBackward0>),\n",
       " tensor(1.7592e-05, grad_fn=<DivBackward0>),\n",
       " tensor(0.0002, grad_fn=<DivBackward0>),\n",
       " tensor(1.1085e-05, grad_fn=<DivBackward0>),\n",
       " tensor(4.7300e-05, grad_fn=<DivBackward0>),\n",
       " tensor(0.0001, grad_fn=<DivBackward0>),\n",
       " tensor(1.0374e-06, grad_fn=<DivBackward0>),\n",
       " tensor(9.3780e-05, grad_fn=<DivBackward0>),\n",
       " tensor(9.2082e-05, grad_fn=<DivBackward0>),\n",
       " tensor(3.0353e-06, grad_fn=<DivBackward0>),\n",
       " tensor(0.0001, grad_fn=<DivBackward0>),\n",
       " tensor(3.4665e-05, grad_fn=<DivBackward0>),\n",
       " tensor(2.5407e-05, grad_fn=<DivBackward0>),\n",
       " tensor(2.5457e-05, grad_fn=<DivBackward0>),\n",
       " tensor(4.2046e-05, grad_fn=<DivBackward0>),\n",
       " tensor(3.4375e-06, grad_fn=<DivBackward0>)]"
      ]
     },
     "execution_count": 49,
     "metadata": {},
     "output_type": "execute_result"
    }
   ],
   "source": [
    "train_loss_all"
   ]
  },
  {
   "cell_type": "code",
   "execution_count": 45,
   "metadata": {},
   "outputs": [
    {
     "data": {
      "text/plain": [
       "list"
      ]
     },
     "execution_count": 45,
     "metadata": {},
     "output_type": "execute_result"
    }
   ],
   "source": [
    "type(train_loss_all)"
   ]
  },
  {
   "cell_type": "code",
   "execution_count": 48,
   "metadata": {},
   "outputs": [
    {
     "name": "stdout",
     "output_type": "stream",
     "text": [
      "0.000396895018639043\n",
      "8.137449185596779e-05\n",
      "0.00016285074525512755\n",
      "2.453865272400435e-05\n",
      "0.00013113475870341063\n",
      "6.053434844943695e-05\n",
      "5.004441482014954e-05\n",
      "5.360853538149968e-05\n",
      "4.8786692786961794e-05\n",
      "7.845018262742087e-05\n",
      "5.3576040954794735e-05\n",
      "6.079277954995632e-05\n",
      "1.75207678694278e-05\n",
      "5.650208913721144e-05\n",
      "3.14615317620337e-06\n",
      "1.759197584760841e-05\n",
      "0.00017576782556716353\n",
      "1.1085125152021646e-05\n",
      "4.7299756261054426e-05\n",
      "0.00010442675556987524\n",
      "1.0374177463745582e-06\n",
      "9.378047252539545e-05\n",
      "9.208195115206763e-05\n",
      "3.0353407964867074e-06\n",
      "0.00010964092507492751\n",
      "3.466459384071641e-05\n",
      "2.5407389330212027e-05\n",
      "2.5456614821450785e-05\n",
      "4.2045663576573133e-05\n",
      "3.4374825190752745e-06\n"
     ]
    }
   ],
   "source": [
    "for i in train_loss_all:\n",
    "    print(i.item())"
   ]
  },
  {
   "cell_type": "code",
   "execution_count": 38,
   "metadata": {},
   "outputs": [
    {
     "ename": "RuntimeError",
     "evalue": "Can't call numpy() on Tensor that requires grad. Use tensor.detach().numpy() instead.",
     "output_type": "error",
     "traceback": [
      "\u001B[0;31m---------------------------------------------------------------------------\u001B[0m",
      "\u001B[0;31mRuntimeError\u001B[0m                              Traceback (most recent call last)",
      "\u001B[0;32m/var/folders/43/793w54zn3q74kk1q2c322hnr0000gn/T/ipykernel_4574/1866759464.py\u001B[0m in \u001B[0;36m<module>\u001B[0;34m\u001B[0m\n\u001B[0;32m----> 1\u001B[0;31m \u001B[0mnp\u001B[0m\u001B[0;34m.\u001B[0m\u001B[0marray\u001B[0m\u001B[0;34m(\u001B[0m\u001B[0mtrain_loss_all\u001B[0m\u001B[0;34m)\u001B[0m\u001B[0;34m\u001B[0m\u001B[0;34m\u001B[0m\u001B[0m\n\u001B[0m",
      "\u001B[0;32m~/opt/anaconda3/lib/python3.9/site-packages/torch/_tensor.py\u001B[0m in \u001B[0;36m__array__\u001B[0;34m(self, dtype)\u001B[0m\n\u001B[1;32m    676\u001B[0m             \u001B[0;32mreturn\u001B[0m \u001B[0mhandle_torch_function\u001B[0m\u001B[0;34m(\u001B[0m\u001B[0mTensor\u001B[0m\u001B[0;34m.\u001B[0m\u001B[0m__array__\u001B[0m\u001B[0;34m,\u001B[0m \u001B[0;34m(\u001B[0m\u001B[0mself\u001B[0m\u001B[0;34m,\u001B[0m\u001B[0;34m)\u001B[0m\u001B[0;34m,\u001B[0m \u001B[0mself\u001B[0m\u001B[0;34m,\u001B[0m \u001B[0mdtype\u001B[0m\u001B[0;34m=\u001B[0m\u001B[0mdtype\u001B[0m\u001B[0;34m)\u001B[0m\u001B[0;34m\u001B[0m\u001B[0;34m\u001B[0m\u001B[0m\n\u001B[1;32m    677\u001B[0m         \u001B[0;32mif\u001B[0m \u001B[0mdtype\u001B[0m \u001B[0;32mis\u001B[0m \u001B[0;32mNone\u001B[0m\u001B[0;34m:\u001B[0m\u001B[0;34m\u001B[0m\u001B[0;34m\u001B[0m\u001B[0m\n\u001B[0;32m--> 678\u001B[0;31m             \u001B[0;32mreturn\u001B[0m \u001B[0mself\u001B[0m\u001B[0;34m.\u001B[0m\u001B[0mnumpy\u001B[0m\u001B[0;34m(\u001B[0m\u001B[0;34m)\u001B[0m\u001B[0;34m\u001B[0m\u001B[0;34m\u001B[0m\u001B[0m\n\u001B[0m\u001B[1;32m    679\u001B[0m         \u001B[0;32melse\u001B[0m\u001B[0;34m:\u001B[0m\u001B[0;34m\u001B[0m\u001B[0;34m\u001B[0m\u001B[0m\n\u001B[1;32m    680\u001B[0m             \u001B[0;32mreturn\u001B[0m \u001B[0mself\u001B[0m\u001B[0;34m.\u001B[0m\u001B[0mnumpy\u001B[0m\u001B[0;34m(\u001B[0m\u001B[0;34m)\u001B[0m\u001B[0;34m.\u001B[0m\u001B[0mastype\u001B[0m\u001B[0;34m(\u001B[0m\u001B[0mdtype\u001B[0m\u001B[0;34m,\u001B[0m \u001B[0mcopy\u001B[0m\u001B[0;34m=\u001B[0m\u001B[0;32mFalse\u001B[0m\u001B[0;34m)\u001B[0m\u001B[0;34m\u001B[0m\u001B[0;34m\u001B[0m\u001B[0m\n",
      "\u001B[0;31mRuntimeError\u001B[0m: Can't call numpy() on Tensor that requires grad. Use tensor.detach().numpy() instead."
     ]
    }
   ],
   "source": [
    "np.array(train_loss_all)"
   ]
  },
  {
   "cell_type": "code",
   "execution_count": 44,
   "metadata": {},
   "outputs": [
    {
     "data": {
      "text/plain": [
       "tensor(0.8806, requires_grad=True)"
      ]
     },
     "execution_count": 44,
     "metadata": {},
     "output_type": "execute_result"
    }
   ],
   "source": [
    "x = torch.tensor(0.8806, requires_grad=True)\n",
    "x"
   ]
  },
  {
   "cell_type": "code",
   "execution_count": 43,
   "metadata": {},
   "outputs": [
    {
     "name": "stdout",
     "output_type": "stream",
     "text": [
      "0.8805999755859375\n"
     ]
    }
   ],
   "source": [
    "print(x.item())"
   ]
  },
  {
   "cell_type": "code",
   "execution_count": 57,
   "metadata": {},
   "outputs": [
    {
     "data": {
      "text/plain": [
       "[0.6535,\n",
       " 0.8208666666666666,\n",
       " 0.8772333333333333,\n",
       " 0.9098666666666667,\n",
       " 0.9286333333333333,\n",
       " 0.9383,\n",
       " 0.9472666666666667,\n",
       " 0.9527833333333333,\n",
       " 0.95725,\n",
       " 0.9600666666666666,\n",
       " 0.9637833333333333,\n",
       " 0.9665666666666667,\n",
       " 0.9692666666666667,\n",
       " 0.9693333333333334,\n",
       " 0.9716,\n",
       " 0.9740833333333333,\n",
       " 0.9752666666666666,\n",
       " 0.97655,\n",
       " 0.9782333333333333,\n",
       " 0.9779166666666667,\n",
       " 0.97925,\n",
       " 0.97955,\n",
       " 0.98095,\n",
       " 0.9812333333333333,\n",
       " 0.98215,\n",
       " 0.98265,\n",
       " 0.9834333333333334,\n",
       " 0.9834166666666667,\n",
       " 0.9841166666666666,\n",
       " 0.98505]"
      ]
     },
     "execution_count": 57,
     "metadata": {},
     "output_type": "execute_result"
    }
   ],
   "source": [
    "train_acc_all"
   ]
  },
  {
   "cell_type": "code",
   "execution_count": 58,
   "metadata": {},
   "outputs": [],
   "source": [
    "train_loss_all_list=[]\n",
    "for i in train_loss_all:\n",
    "    train_loss_all_list.append(i.item())\n",
    "\n",
    "test_loss_all_list=[]\n",
    "for i in test_loss_all:\n",
    "    test_loss_all_list.append(i.item())"
   ]
  },
  {
   "cell_type": "code",
   "execution_count": 54,
   "metadata": {},
   "outputs": [
    {
     "ename": "AttributeError",
     "evalue": "'float' object has no attribute 'item'",
     "output_type": "error",
     "traceback": [
      "\u001B[0;31m---------------------------------------------------------------------------\u001B[0m",
      "\u001B[0;31mAttributeError\u001B[0m                            Traceback (most recent call last)",
      "\u001B[0;32m/var/folders/43/793w54zn3q74kk1q2c322hnr0000gn/T/ipykernel_4574/2204200011.py\u001B[0m in \u001B[0;36m<module>\u001B[0;34m\u001B[0m\n\u001B[1;32m      9\u001B[0m \u001B[0mtrain_acc_all_list\u001B[0m\u001B[0;34m=\u001B[0m\u001B[0;34m[\u001B[0m\u001B[0;34m]\u001B[0m\u001B[0;34m\u001B[0m\u001B[0;34m\u001B[0m\u001B[0m\n\u001B[1;32m     10\u001B[0m \u001B[0;32mfor\u001B[0m \u001B[0mi\u001B[0m \u001B[0;32min\u001B[0m \u001B[0mtrain_acc_all\u001B[0m\u001B[0;34m:\u001B[0m\u001B[0;34m\u001B[0m\u001B[0;34m\u001B[0m\u001B[0m\n\u001B[0;32m---> 11\u001B[0;31m     \u001B[0mtrain_acc_all_list\u001B[0m\u001B[0;34m.\u001B[0m\u001B[0mappend\u001B[0m\u001B[0;34m(\u001B[0m\u001B[0mi\u001B[0m\u001B[0;34m.\u001B[0m\u001B[0mitem\u001B[0m\u001B[0;34m(\u001B[0m\u001B[0;34m)\u001B[0m\u001B[0;34m)\u001B[0m\u001B[0;34m\u001B[0m\u001B[0;34m\u001B[0m\u001B[0m\n\u001B[0m\u001B[1;32m     12\u001B[0m \u001B[0;34m\u001B[0m\u001B[0m\n\u001B[1;32m     13\u001B[0m \u001B[0mtest_acc_all_list\u001B[0m\u001B[0;34m=\u001B[0m\u001B[0;34m[\u001B[0m\u001B[0;34m]\u001B[0m\u001B[0;34m\u001B[0m\u001B[0;34m\u001B[0m\u001B[0m\n",
      "\u001B[0;31mAttributeError\u001B[0m: 'float' object has no attribute 'item'"
     ]
    }
   ],
   "source": []
  },
  {
   "cell_type": "code",
   "execution_count": null,
   "metadata": {},
   "outputs": [],
   "source": []
  },
  {
   "cell_type": "code",
   "execution_count": 60,
   "metadata": {
    "ExecuteTime": {
     "end_time": "2019-08-25T02:52:40.305318Z",
     "start_time": "2019-08-25T02:52:39.881265Z"
    }
   },
   "outputs": [
    {
     "data": {
      "image/png": "[encoded data removed]",
      "text/plain": [
       "<Figure size 1008x360 with 2 Axes>"
      ]
     },
     "metadata": {
      "needs_background": "light"
     },
     "output_type": "display_data"
    }
   ],
   "source": [
    "## 可视化模型训练过程中\n",
    "plt.figure(figsize=(14,5))\n",
    "plt.subplot(1,2,1)\n",
    "plt.plot(train_loss_all_list,\"ro-\",label = \"Train loss\")\n",
    "plt.plot(test_loss_all_list,\"bs-\",label = \"Test loss\")\n",
    "plt.legend()\n",
    "plt.xlabel(\"epoch\")\n",
    "plt.ylabel(\"Loss\")\n",
    "plt.subplot(1,2,2)\n",
    "plt.plot(train_acc_all,\"ro-\",label = \"Train acc\")\n",
    "plt.plot(test_acc_all,\"bs-\",label = \"Test acc\")\n",
    "plt.xlabel(\"epoch\")\n",
    "plt.ylabel(\"acc\")\n",
    "plt.legend()\n",
    "plt.show()"
   ]
  },
  {
   "cell_type": "code",
   "execution_count": null,
   "metadata": {},
   "outputs": [],
   "source": []
  },
  {
   "cell_type": "code",
   "execution_count": null,
   "metadata": {},
   "outputs": [],
   "source": []
  }
 ],
 "metadata": {
  "hide_input": false,
  "kernelspec": {
   "display_name": "Python 3 (ipykernel)",
   "language": "python",
   "name": "python3"
  },
  "language_info": {
   "codemirror_mode": {
    "name": "ipython",
    "version": 3
   },
   "file_extension": ".py",
   "mimetype": "text/x-python",
   "name": "python",
   "nbconvert_exporter": "python",
   "pygments_lexer": "ipython3",
   "version": "3.9.7"
  },
  "nbTranslate": {
   "displayLangs": [
    "*"
   ],
   "hotkey": "alt-t",
   "langInMainMenu": true,
   "sourceLang": "en",
   "targetLang": "fr",
   "useGoogleTranslate": true
  },
  "toc": {
   "base_numbering": 1,
   "nav_menu": {},
   "number_sections": true,
   "sideBar": true,
   "skip_h1_title": false,
   "title_cell": "Table of Contents",
   "title_sidebar": "Contents",
   "toc_cell": false,
   "toc_position": {},
   "toc_section_display": true,
   "toc_window_display": false
  },
  "varInspector": {
   "cols": {
    "lenName": 16,
    "lenType": 16,
    "lenVar": 40
   },
   "kernels_config": {
    "python": {
     "delete_cmd_postfix": "",
     "delete_cmd_prefix": "del ",
     "library": "var_list.py",
     "varRefreshCmd": "print(var_dic_list())"
    },
    "r": {
     "delete_cmd_postfix": ") ",
     "delete_cmd_prefix": "rm(",
     "library": "var_list.r",
     "varRefreshCmd": "cat(var_dic_list()) "
    }
   },
   "types_to_exclude": [
    "module",
    "function",
    "builtin_function_or_method",
    "instance",
    "_Feature"
   ],
   "window_display": false
  }
 },
 "nbformat": 4,
 "nbformat_minor": 4
}
